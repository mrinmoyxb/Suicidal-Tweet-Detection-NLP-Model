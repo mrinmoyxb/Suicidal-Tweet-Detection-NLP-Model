{
 "cells": [
  {
   "cell_type": "markdown",
   "id": "c7c63480",
   "metadata": {},
   "source": [
    "# 1. Import libraries and dataset:"
   ]
  },
  {
   "cell_type": "code",
   "execution_count": 1,
   "id": "9ce211fb",
   "metadata": {},
   "outputs": [],
   "source": [
    "import tensorflow as tf"
   ]
  },
  {
   "cell_type": "code",
   "execution_count": 2,
   "id": "c138ddd2",
   "metadata": {},
   "outputs": [],
   "source": [
    "import zipfile"
   ]
  },
  {
   "cell_type": "code",
   "execution_count": 3,
   "id": "aff7861d",
   "metadata": {},
   "outputs": [],
   "source": [
    "location = 'suicide_tweets.zip'\n",
    "zip_ref = zipfile.ZipFile(location, 'r')\n",
    "zip_ref.extractall()\n",
    "zip_ref.close()"
   ]
  },
  {
   "cell_type": "markdown",
   "id": "ad0f026e",
   "metadata": {},
   "source": [
    "# 2. Explore the dataset:"
   ]
  },
  {
   "cell_type": "markdown",
   "id": "d132c7df",
   "metadata": {},
   "source": [
    "**1. VIEWING RANDOM TWEETS FROM THE DATASET:**"
   ]
  },
  {
   "cell_type": "code",
   "execution_count": 4,
   "id": "7ac93386",
   "metadata": {},
   "outputs": [],
   "source": [
    "import pandas as pd"
   ]
  },
  {
   "cell_type": "code",
   "execution_count": 5,
   "id": "b425f3bf",
   "metadata": {},
   "outputs": [
    {
     "data": {
      "text/html": [
       "<div>\n",
       "<style scoped>\n",
       "    .dataframe tbody tr th:only-of-type {\n",
       "        vertical-align: middle;\n",
       "    }\n",
       "\n",
       "    .dataframe tbody tr th {\n",
       "        vertical-align: top;\n",
       "    }\n",
       "\n",
       "    .dataframe thead th {\n",
       "        text-align: right;\n",
       "    }\n",
       "</style>\n",
       "<table border=\"1\" class=\"dataframe\">\n",
       "  <thead>\n",
       "    <tr style=\"text-align: right;\">\n",
       "      <th></th>\n",
       "      <th>Tweet</th>\n",
       "      <th>Suicide</th>\n",
       "    </tr>\n",
       "  </thead>\n",
       "  <tbody>\n",
       "    <tr>\n",
       "      <th>0</th>\n",
       "      <td>making some lunch</td>\n",
       "      <td>Not Suicide post</td>\n",
       "    </tr>\n",
       "    <tr>\n",
       "      <th>1</th>\n",
       "      <td>@Alexia You want his money.</td>\n",
       "      <td>Not Suicide post</td>\n",
       "    </tr>\n",
       "    <tr>\n",
       "      <th>2</th>\n",
       "      <td>@dizzyhrvy that crap took me forever to put to...</td>\n",
       "      <td>Potential Suicide post</td>\n",
       "    </tr>\n",
       "    <tr>\n",
       "      <th>3</th>\n",
       "      <td>@jnaylor #kiwitweets Hey Jer! Since when did y...</td>\n",
       "      <td>Not Suicide post</td>\n",
       "    </tr>\n",
       "    <tr>\n",
       "      <th>4</th>\n",
       "      <td>Trying out &amp;quot;Delicious Library 2&amp;quot; wit...</td>\n",
       "      <td>Not Suicide post</td>\n",
       "    </tr>\n",
       "    <tr>\n",
       "      <th>5</th>\n",
       "      <td>@ValenValdez Oh, that's good to hear. But is i...</td>\n",
       "      <td>Not Suicide post</td>\n",
       "    </tr>\n",
       "    <tr>\n",
       "      <th>6</th>\n",
       "      <td>@mcm180 u've got a list for fellow #hotties? Y...</td>\n",
       "      <td>Not Suicide post</td>\n",
       "    </tr>\n",
       "    <tr>\n",
       "      <th>7</th>\n",
       "      <td>@jakepaul @jamescharles @LoganPaul Just becaus...</td>\n",
       "      <td>Potential Suicide post</td>\n",
       "    </tr>\n",
       "    <tr>\n",
       "      <th>8</th>\n",
       "      <td>time for some warsaw beer garden chilling</td>\n",
       "      <td>Not Suicide post</td>\n",
       "    </tr>\n",
       "    <tr>\n",
       "      <th>9</th>\n",
       "      <td>I hate my life lmao I hope I die soon or sumn ...</td>\n",
       "      <td>Potential Suicide post</td>\n",
       "    </tr>\n",
       "  </tbody>\n",
       "</table>\n",
       "</div>"
      ],
      "text/plain": [
       "                                               Tweet                  Suicide\n",
       "0                                  making some lunch         Not Suicide post\n",
       "1                        @Alexia You want his money.         Not Suicide post\n",
       "2  @dizzyhrvy that crap took me forever to put to...  Potential Suicide post \n",
       "3  @jnaylor #kiwitweets Hey Jer! Since when did y...         Not Suicide post\n",
       "4  Trying out &quot;Delicious Library 2&quot; wit...         Not Suicide post\n",
       "5  @ValenValdez Oh, that's good to hear. But is i...         Not Suicide post\n",
       "6  @mcm180 u've got a list for fellow #hotties? Y...         Not Suicide post\n",
       "7  @jakepaul @jamescharles @LoganPaul Just becaus...  Potential Suicide post \n",
       "8          time for some warsaw beer garden chilling         Not Suicide post\n",
       "9  I hate my life lmao I hope I die soon or sumn ...  Potential Suicide post "
      ]
     },
     "execution_count": 5,
     "metadata": {},
     "output_type": "execute_result"
    }
   ],
   "source": [
    "df = pd.read_csv('suicide_dataset.csv')\n",
    "df.head(10)"
   ]
  },
  {
   "cell_type": "code",
   "execution_count": 7,
   "id": "ae41e13f",
   "metadata": {},
   "outputs": [
    {
     "name": "stdout",
     "output_type": "stream",
     "text": [
      "Tweet is:\n",
      " Mmm mummy's culinary skills has been improving. Smells so good! i'm loving home cooked food!\n",
      "Sentiment is:\n",
      " Not Suicide post\n"
     ]
    }
   ],
   "source": [
    "import random\n",
    "index = random.randrange(0, df.shape[0])\n",
    "print(\"Tweet is:\\n\", df.iloc[index]['Tweet'])\n",
    "print(\"Sentiment is:\\n\", df.iloc[index]['Suicide'])"
   ]
  },
  {
   "cell_type": "markdown",
   "id": "bc185b0b",
   "metadata": {},
   "source": [
    "**2. TOTAL NUMBER OF TWEETS IN THE DATASET:**"
   ]
  },
  {
   "cell_type": "code",
   "execution_count": 8,
   "id": "ee9c40d8",
   "metadata": {},
   "outputs": [
    {
     "name": "stdout",
     "output_type": "stream",
     "text": [
      "Total number of tweets in the dataset:  1787\n"
     ]
    }
   ],
   "source": [
    "num_tweets = df.shape[0]\n",
    "print(\"Total number of tweets in the dataset: \", num_tweets)"
   ]
  },
  {
   "cell_type": "markdown",
   "id": "4be3e2da",
   "metadata": {},
   "source": [
    "**3. TOTAL TWEETS OF EACH CLASS:**"
   ]
  },
  {
   "cell_type": "code",
   "execution_count": 9,
   "id": "db892bdc",
   "metadata": {},
   "outputs": [],
   "source": [
    "not_suicide = df[df['Suicide']=='Not Suicide post']['Suicide'].count()"
   ]
  },
  {
   "cell_type": "code",
   "execution_count": 10,
   "id": "8653e0e4",
   "metadata": {},
   "outputs": [],
   "source": [
    "potential_suicide = df[df['Suicide']=='Potential Suicide post ']['Suicide'].count()"
   ]
  },
  {
   "cell_type": "code",
   "execution_count": 11,
   "id": "0a4f08d8",
   "metadata": {},
   "outputs": [
    {
     "name": "stdout",
     "output_type": "stream",
     "text": [
      "Number of not suicide tweets:  1127\n",
      "Number of potential suicide tweets:  660\n"
     ]
    }
   ],
   "source": [
    "print(\"Number of not suicide tweets: \", not_suicide)\n",
    "print(\"Number of potential suicide tweets: \", potential_suicide)"
   ]
  },
  {
   "cell_type": "markdown",
   "id": "b918b06a",
   "metadata": {},
   "source": [
    "**4. VISUALIZATION OF STATS OF TWEETS:**"
   ]
  },
  {
   "cell_type": "markdown",
   "id": "946162bb",
   "metadata": {},
   "source": [
    "**I. Bar Graph:**"
   ]
  },
  {
   "cell_type": "code",
   "execution_count": 12,
   "id": "b6053444",
   "metadata": {},
   "outputs": [],
   "source": [
    "import matplotlib.pyplot as plt"
   ]
  },
  {
   "cell_type": "code",
   "execution_count": 13,
   "id": "11f03144",
   "metadata": {},
   "outputs": [],
   "source": [
    "x = ['not suicide post', 'potential suicide post', ]\n",
    "y = [not_suicide, potential_suicide]"
   ]
  },
  {
   "cell_type": "code",
   "execution_count": 14,
   "id": "bed889cd",
   "metadata": {},
   "outputs": [
    {
     "data": {
      "image/png": "[encoded data removed]",
      "text/plain": [
       "<Figure size 640x480 with 1 Axes>"
      ]
     },
     "metadata": {},
     "output_type": "display_data"
    }
   ],
   "source": [
    "plt.bar(x, y, color=['g', 'r'])\n",
    "plt.title('Bar graph of tweets class')\n",
    "plt.show()"
   ]
  },
  {
   "cell_type": "markdown",
   "id": "f54d5320",
   "metadata": {},
   "source": [
    "**II. Pie Chart:**"
   ]
  },
  {
   "cell_type": "code",
   "execution_count": 15,
   "id": "9213f43c",
   "metadata": {},
   "outputs": [
    {
     "data": {
      "image/png": "[encoded data removed]",
      "text/plain": [
       "<Figure size 640x480 with 1 Axes>"
      ]
     },
     "metadata": {},
     "output_type": "display_data"
    }
   ],
   "source": [
    "plt.pie(y, labels=x, colors=['b', 'r'])\n",
    "plt.title(\"Pie chart of tweets class\")\n",
    "plt.show()"
   ]
  },
  {
   "cell_type": "markdown",
   "id": "f61126fc",
   "metadata": {},
   "source": [
    "**5. ONE HOT ENCODING:**"
   ]
  },
  {
   "cell_type": "code",
   "execution_count": 16,
   "id": "fdd40696",
   "metadata": {},
   "outputs": [],
   "source": [
    "df['Suicide'] = df['Suicide'].replace({'Not Suicide post': 0, 'Potential Suicide post ': 1})"
   ]
  },
  {
   "cell_type": "code",
   "execution_count": 17,
   "id": "69d6de47",
   "metadata": {},
   "outputs": [
    {
     "data": {
      "text/html": [
       "<div>\n",
       "<style scoped>\n",
       "    .dataframe tbody tr th:only-of-type {\n",
       "        vertical-align: middle;\n",
       "    }\n",
       "\n",
       "    .dataframe tbody tr th {\n",
       "        vertical-align: top;\n",
       "    }\n",
       "\n",
       "    .dataframe thead th {\n",
       "        text-align: right;\n",
       "    }\n",
       "</style>\n",
       "<table border=\"1\" class=\"dataframe\">\n",
       "  <thead>\n",
       "    <tr style=\"text-align: right;\">\n",
       "      <th></th>\n",
       "      <th>Tweet</th>\n",
       "      <th>Suicide</th>\n",
       "    </tr>\n",
       "  </thead>\n",
       "  <tbody>\n",
       "    <tr>\n",
       "      <th>0</th>\n",
       "      <td>making some lunch</td>\n",
       "      <td>0</td>\n",
       "    </tr>\n",
       "    <tr>\n",
       "      <th>1</th>\n",
       "      <td>@Alexia You want his money.</td>\n",
       "      <td>0</td>\n",
       "    </tr>\n",
       "    <tr>\n",
       "      <th>2</th>\n",
       "      <td>@dizzyhrvy that crap took me forever to put to...</td>\n",
       "      <td>1</td>\n",
       "    </tr>\n",
       "    <tr>\n",
       "      <th>3</th>\n",
       "      <td>@jnaylor #kiwitweets Hey Jer! Since when did y...</td>\n",
       "      <td>0</td>\n",
       "    </tr>\n",
       "    <tr>\n",
       "      <th>4</th>\n",
       "      <td>Trying out &amp;quot;Delicious Library 2&amp;quot; wit...</td>\n",
       "      <td>0</td>\n",
       "    </tr>\n",
       "    <tr>\n",
       "      <th>5</th>\n",
       "      <td>@ValenValdez Oh, that's good to hear. But is i...</td>\n",
       "      <td>0</td>\n",
       "    </tr>\n",
       "    <tr>\n",
       "      <th>6</th>\n",
       "      <td>@mcm180 u've got a list for fellow #hotties? Y...</td>\n",
       "      <td>0</td>\n",
       "    </tr>\n",
       "    <tr>\n",
       "      <th>7</th>\n",
       "      <td>@jakepaul @jamescharles @LoganPaul Just becaus...</td>\n",
       "      <td>1</td>\n",
       "    </tr>\n",
       "    <tr>\n",
       "      <th>8</th>\n",
       "      <td>time for some warsaw beer garden chilling</td>\n",
       "      <td>0</td>\n",
       "    </tr>\n",
       "    <tr>\n",
       "      <th>9</th>\n",
       "      <td>I hate my life lmao I hope I die soon or sumn ...</td>\n",
       "      <td>1</td>\n",
       "    </tr>\n",
       "  </tbody>\n",
       "</table>\n",
       "</div>"
      ],
      "text/plain": [
       "                                               Tweet  Suicide\n",
       "0                                  making some lunch        0\n",
       "1                        @Alexia You want his money.        0\n",
       "2  @dizzyhrvy that crap took me forever to put to...        1\n",
       "3  @jnaylor #kiwitweets Hey Jer! Since when did y...        0\n",
       "4  Trying out &quot;Delicious Library 2&quot; wit...        0\n",
       "5  @ValenValdez Oh, that's good to hear. But is i...        0\n",
       "6  @mcm180 u've got a list for fellow #hotties? Y...        0\n",
       "7  @jakepaul @jamescharles @LoganPaul Just becaus...        1\n",
       "8          time for some warsaw beer garden chilling        0\n",
       "9  I hate my life lmao I hope I die soon or sumn ...        1"
      ]
     },
     "execution_count": 17,
     "metadata": {},
     "output_type": "execute_result"
    }
   ],
   "source": [
    "df.head(10)"
   ]
  },
  {
   "cell_type": "code",
   "execution_count": 18,
   "id": "beb83079",
   "metadata": {},
   "outputs": [
    {
     "name": "stdout",
     "output_type": "stream",
     "text": [
      "Not Suicide post:  1127\n"
     ]
    }
   ],
   "source": [
    "print(\"Not Suicide post: \", df[df['Suicide']==0]['Suicide'].count())"
   ]
  },
  {
   "cell_type": "code",
   "execution_count": 19,
   "id": "ba2a4bc4",
   "metadata": {},
   "outputs": [
    {
     "name": "stdout",
     "output_type": "stream",
     "text": [
      "Potential Suicide post: 660\n"
     ]
    }
   ],
   "source": [
    "print(\"Potential Suicide post:\", df[df['Suicide']==1]['Suicide'].count())"
   ]
  },
  {
   "cell_type": "markdown",
   "id": "f3daea03",
   "metadata": {},
   "source": [
    "# 3. Preprocessing text:"
   ]
  },
  {
   "cell_type": "markdown",
   "id": "7c5a6cca",
   "metadata": {},
   "source": [
    "**1. DATAFRAME TO LIST DATATYPE:**"
   ]
  },
  {
   "cell_type": "markdown",
   "id": "550b3ce0",
   "metadata": {},
   "source": [
    "**I. Conversion of Tweet column of dataframe to list:** "
   ]
  },
  {
   "cell_type": "code",
   "execution_count": 20,
   "id": "c17bd832",
   "metadata": {},
   "outputs": [],
   "source": [
    "tweets = df['Tweet'].astype('str')\n",
    "tweets = tweets.tolist()"
   ]
  },
  {
   "cell_type": "code",
   "execution_count": 21,
   "id": "1d56a02e",
   "metadata": {},
   "outputs": [
    {
     "name": "stdout",
     "output_type": "stream",
     "text": [
      "Type is:  <class 'list'>\n"
     ]
    }
   ],
   "source": [
    "print(\"Type is: \", type(tweets))"
   ]
  },
  {
   "cell_type": "markdown",
   "id": "29d35622",
   "metadata": {},
   "source": [
    "**II. Conversion of Suicide column of dataframe to list:** "
   ]
  },
  {
   "cell_type": "code",
   "execution_count": 22,
   "id": "08a165f6",
   "metadata": {},
   "outputs": [],
   "source": [
    "labels = df['Suicide'].tolist()"
   ]
  },
  {
   "cell_type": "code",
   "execution_count": 23,
   "id": "8aaf9fbc",
   "metadata": {},
   "outputs": [
    {
     "name": "stdout",
     "output_type": "stream",
     "text": [
      "Type is:  <class 'list'>\n"
     ]
    }
   ],
   "source": [
    "print(\"Type is: \", type(labels))"
   ]
  },
  {
   "cell_type": "markdown",
   "id": "ce8af489",
   "metadata": {},
   "source": [
    "**III. Conversion of Suicide column to array:**"
   ]
  },
  {
   "cell_type": "code",
   "execution_count": 24,
   "id": "e646bb4b",
   "metadata": {},
   "outputs": [],
   "source": [
    "import numpy as np\n",
    "labels = np.array(labels)"
   ]
  },
  {
   "cell_type": "markdown",
   "id": "7f933947",
   "metadata": {},
   "source": [
    "**IV. Random tweets from the list:**"
   ]
  },
  {
   "cell_type": "code",
   "execution_count": 39,
   "id": "5235a1a1",
   "metadata": {},
   "outputs": [],
   "source": [
    "rand_index = random.randrange(0, len(tweets))"
   ]
  },
  {
   "cell_type": "code",
   "execution_count": 40,
   "id": "882d2f97",
   "metadata": {},
   "outputs": [
    {
     "name": "stdout",
     "output_type": "stream",
     "text": [
      "Tweet is: \n",
      " trying to figure out how this works!\n"
     ]
    }
   ],
   "source": [
    "print(\"Tweet is: \\n\", tweets[rand_index])"
   ]
  },
  {
   "cell_type": "code",
   "execution_count": 41,
   "id": "fcd86a2b",
   "metadata": {},
   "outputs": [
    {
     "name": "stdout",
     "output_type": "stream",
     "text": [
      "Not Suicide(0)\n"
     ]
    }
   ],
   "source": [
    "if labels[rand_index]==0:\n",
    "    print(\"Not Suicide(0)\")\n",
    "else:\n",
    "    print(\"Potential Suicide(1)\")"
   ]
  },
  {
   "cell_type": "markdown",
   "id": "f65034c8",
   "metadata": {},
   "source": [
    "**2. SPLITTING THE ENTIRE DATASET INTO TRAIN AND TEST DATASETS:**"
   ]
  },
  {
   "cell_type": "code",
   "execution_count": 42,
   "id": "f340684d",
   "metadata": {},
   "outputs": [],
   "source": [
    "from sklearn.model_selection import train_test_split"
   ]
  },
  {
   "cell_type": "code",
   "execution_count": 43,
   "id": "aedf3800",
   "metadata": {},
   "outputs": [],
   "source": [
    "train_tweet, test_tweet, train_label, test_label = train_test_split(tweets, labels, random_state=42, test_size=0.2)"
   ]
  },
  {
   "cell_type": "code",
   "execution_count": 44,
   "id": "181a43a5",
   "metadata": {},
   "outputs": [
    {
     "data": {
      "text/plain": [
       "\"@elleeseymour I didn't realise you were trustee. There are loads of you aren't there? Find RASE structure quite confusing!\""
      ]
     },
     "execution_count": 44,
     "metadata": {},
     "output_type": "execute_result"
    }
   ],
   "source": [
    "train_tweet[1]"
   ]
  },
  {
   "cell_type": "code",
   "execution_count": 45,
   "id": "77fff1c2",
   "metadata": {},
   "outputs": [
    {
     "data": {
      "text/plain": [
       "0"
      ]
     },
     "execution_count": 45,
     "metadata": {},
     "output_type": "execute_result"
    }
   ],
   "source": [
    "train_label[1]"
   ]
  },
  {
   "cell_type": "markdown",
   "id": "d2b72b07",
   "metadata": {},
   "source": [
    "**3. PREPROCESSING THE TEXTUAL DATA INTO NUMERICAL FORMAT:**"
   ]
  },
  {
   "cell_type": "code",
   "execution_count": 46,
   "id": "6ff49be4",
   "metadata": {},
   "outputs": [],
   "source": [
    "from tensorflow.keras.preprocessing.text import Tokenizer\n",
    "from tensorflow.keras.preprocessing.sequence import pad_sequences"
   ]
  },
  {
   "cell_type": "markdown",
   "id": "d6552b48",
   "metadata": {},
   "source": [
    "**I. Setting up the hyperparameters:**"
   ]
  },
  {
   "cell_type": "code",
   "execution_count": 47,
   "id": "633d3c99",
   "metadata": {},
   "outputs": [],
   "source": [
    "words_count = []\n",
    "for i in tweets:\n",
    "    words_count.append(len(i.split()))"
   ]
  },
  {
   "cell_type": "code",
   "execution_count": 48,
   "id": "38615f5f",
   "metadata": {},
   "outputs": [],
   "source": [
    "import numpy as np\n",
    "max_length = max(words_count) # maximum number of words in a sentence, max length our sequence will be\n",
    "vocab_size = 1000 # maximum number of unique words in the dataset\n",
    "pad_type = 'post'\n",
    "trunc_type = 'pre'\n",
    "oov_tok = \"<OOV>\"\n",
    "embedding_dim = round(np.sqrt(vocab_size))"
   ]
  },
  {
   "cell_type": "markdown",
   "id": "cb545648",
   "metadata": {},
   "source": [
    "**II. Tokenization and padded sequence on train and test data:**"
   ]
  },
  {
   "cell_type": "code",
   "execution_count": 49,
   "id": "7d633300",
   "metadata": {},
   "outputs": [],
   "source": [
    "tokenizer = Tokenizer(num_words=vocab_size, oov_token=oov_tok)\n",
    "tokenizer.fit_on_texts(train_tweet)\n",
    "word_indexes = tokenizer.word_index"
   ]
  },
  {
   "cell_type": "markdown",
   "id": "3f249841",
   "metadata": {},
   "source": [
    "**III. Training:**"
   ]
  },
  {
   "cell_type": "code",
   "execution_count": 50,
   "id": "79902102",
   "metadata": {},
   "outputs": [],
   "source": [
    "training_sequences = tokenizer.texts_to_sequences(train_tweet)\n",
    "training_padded = pad_sequences(training_sequences, maxlen=max_length,\n",
    "                               padding=pad_type, truncating=trunc_type)"
   ]
  },
  {
   "cell_type": "markdown",
   "id": "13d7b597",
   "metadata": {},
   "source": [
    "**IV. Testing:**"
   ]
  },
  {
   "cell_type": "code",
   "execution_count": 51,
   "id": "da5bfc47",
   "metadata": {},
   "outputs": [],
   "source": [
    "testing_sequences = tokenizer.texts_to_sequences(test_tweet)\n",
    "testing_padded = pad_sequences(testing_sequences, maxlen=max_length, \n",
    "                              padding=pad_type, truncating=trunc_type)"
   ]
  },
  {
   "cell_type": "markdown",
   "id": "84ce3cb1",
   "metadata": {},
   "source": [
    "# 4. Build and compile the NLP model:"
   ]
  },
  {
   "cell_type": "code",
   "execution_count": 52,
   "id": "d60a1db0",
   "metadata": {},
   "outputs": [],
   "source": [
    "model = tf.keras.models.Sequential([\n",
    "    tf.keras.layers.Embedding(vocab_size, embedding_dim, input_length=max_length),\n",
    "    tf.keras.layers.GlobalAveragePooling1D(),\n",
    "    tf.keras.layers.Dense(100, activation='relu'),\n",
    "    tf.keras.layers.Dense(1, activation='sigmoid')\n",
    "])"
   ]
  },
  {
   "cell_type": "code",
   "execution_count": 53,
   "id": "da8e719b",
   "metadata": {},
   "outputs": [],
   "source": [
    "model.compile(loss='binary_crossentropy', optimizer=tf.keras.optimizers.Adam(), metrics=['accuracy'])"
   ]
  },
  {
   "cell_type": "code",
   "execution_count": 54,
   "id": "c3b7d7c4",
   "metadata": {},
   "outputs": [
    {
     "name": "stdout",
     "output_type": "stream",
     "text": [
      "Model: \"sequential\"\n",
      "_________________________________________________________________\n",
      " Layer (type)                Output Shape              Param #   \n",
      "=================================================================\n",
      " embedding (Embedding)       (None, 240, 32)           32000     \n",
      "                                                                 \n",
      " global_average_pooling1d (G  (None, 32)               0         \n",
      " lobalAveragePooling1D)                                          \n",
      "                                                                 \n",
      " dense (Dense)               (None, 100)               3300      \n",
      "                                                                 \n",
      " dense_1 (Dense)             (None, 1)                 101       \n",
      "                                                                 \n",
      "=================================================================\n",
      "Total params: 35,401\n",
      "Trainable params: 35,401\n",
      "Non-trainable params: 0\n",
      "_________________________________________________________________\n"
     ]
    }
   ],
   "source": [
    "model.summary()"
   ]
  },
  {
   "cell_type": "code",
   "execution_count": 55,
   "id": "2e7f2b42",
   "metadata": {},
   "outputs": [
    {
     "name": "stdout",
     "output_type": "stream",
     "text": [
      "Epoch 1/30\n",
      "45/45 - 2s - loss: 0.6707 - accuracy: 0.6242 - val_loss: 0.6624 - val_accuracy: 0.6061 - 2s/epoch - 52ms/step\n",
      "Epoch 2/30\n",
      "45/45 - 0s - loss: 0.6443 - accuracy: 0.6396 - val_loss: 0.6514 - val_accuracy: 0.6173 - 375ms/epoch - 8ms/step\n",
      "Epoch 3/30\n",
      "45/45 - 0s - loss: 0.6297 - accuracy: 0.6529 - val_loss: 0.6323 - val_accuracy: 0.6425 - 373ms/epoch - 8ms/step\n",
      "Epoch 4/30\n",
      "45/45 - 0s - loss: 0.6085 - accuracy: 0.6690 - val_loss: 0.6011 - val_accuracy: 0.6676 - 384ms/epoch - 9ms/step\n",
      "Epoch 5/30\n",
      "45/45 - 0s - loss: 0.5688 - accuracy: 0.6865 - val_loss: 0.5566 - val_accuracy: 0.6983 - 422ms/epoch - 9ms/step\n",
      "Epoch 6/30\n",
      "45/45 - 0s - loss: 0.5208 - accuracy: 0.7481 - val_loss: 0.5031 - val_accuracy: 0.7430 - 407ms/epoch - 9ms/step\n",
      "Epoch 7/30\n",
      "45/45 - 0s - loss: 0.4581 - accuracy: 0.8090 - val_loss: 0.4457 - val_accuracy: 0.8045 - 409ms/epoch - 9ms/step\n",
      "Epoch 8/30\n",
      "45/45 - 0s - loss: 0.3963 - accuracy: 0.8481 - val_loss: 0.3888 - val_accuracy: 0.8715 - 403ms/epoch - 9ms/step\n",
      "Epoch 9/30\n",
      "45/45 - 0s - loss: 0.3417 - accuracy: 0.8768 - val_loss: 0.3451 - val_accuracy: 0.8631 - 394ms/epoch - 9ms/step\n",
      "Epoch 10/30\n",
      "45/45 - 0s - loss: 0.2932 - accuracy: 0.8915 - val_loss: 0.3022 - val_accuracy: 0.8911 - 421ms/epoch - 9ms/step\n",
      "Epoch 11/30\n",
      "45/45 - 0s - loss: 0.2579 - accuracy: 0.9055 - val_loss: 0.2936 - val_accuracy: 0.8715 - 392ms/epoch - 9ms/step\n",
      "Epoch 12/30\n",
      "45/45 - 0s - loss: 0.2307 - accuracy: 0.9216 - val_loss: 0.2504 - val_accuracy: 0.9050 - 396ms/epoch - 9ms/step\n",
      "Epoch 13/30\n",
      "45/45 - 0s - loss: 0.2022 - accuracy: 0.9244 - val_loss: 0.2389 - val_accuracy: 0.9134 - 420ms/epoch - 9ms/step\n",
      "Epoch 14/30\n",
      "45/45 - 0s - loss: 0.1819 - accuracy: 0.9349 - val_loss: 0.2184 - val_accuracy: 0.9134 - 415ms/epoch - 9ms/step\n",
      "Epoch 15/30\n",
      "45/45 - 0s - loss: 0.1670 - accuracy: 0.9433 - val_loss: 0.2043 - val_accuracy: 0.9358 - 391ms/epoch - 9ms/step\n",
      "Epoch 16/30\n",
      "45/45 - 0s - loss: 0.1533 - accuracy: 0.9503 - val_loss: 0.1998 - val_accuracy: 0.9274 - 407ms/epoch - 9ms/step\n",
      "Epoch 17/30\n",
      "45/45 - 0s - loss: 0.1470 - accuracy: 0.9538 - val_loss: 0.2232 - val_accuracy: 0.9134 - 410ms/epoch - 9ms/step\n",
      "Epoch 18/30\n",
      "45/45 - 0s - loss: 0.1469 - accuracy: 0.9531 - val_loss: 0.1822 - val_accuracy: 0.9441 - 405ms/epoch - 9ms/step\n",
      "Epoch 19/30\n",
      "45/45 - 0s - loss: 0.1212 - accuracy: 0.9678 - val_loss: 0.1948 - val_accuracy: 0.9218 - 411ms/epoch - 9ms/step\n",
      "Epoch 20/30\n",
      "45/45 - 0s - loss: 0.1135 - accuracy: 0.9678 - val_loss: 0.1747 - val_accuracy: 0.9469 - 398ms/epoch - 9ms/step\n",
      "Epoch 21/30\n",
      "45/45 - 0s - loss: 0.1083 - accuracy: 0.9692 - val_loss: 0.1688 - val_accuracy: 0.9441 - 412ms/epoch - 9ms/step\n",
      "Epoch 22/30\n",
      "45/45 - 0s - loss: 0.0992 - accuracy: 0.9762 - val_loss: 0.1694 - val_accuracy: 0.9469 - 427ms/epoch - 9ms/step\n",
      "Epoch 23/30\n",
      "45/45 - 1s - loss: 0.0910 - accuracy: 0.9776 - val_loss: 0.1621 - val_accuracy: 0.9385 - 503ms/epoch - 11ms/step\n",
      "Epoch 24/30\n",
      "45/45 - 0s - loss: 0.0917 - accuracy: 0.9762 - val_loss: 0.1597 - val_accuracy: 0.9413 - 432ms/epoch - 10ms/step\n",
      "Epoch 25/30\n",
      "45/45 - 0s - loss: 0.0839 - accuracy: 0.9783 - val_loss: 0.1684 - val_accuracy: 0.9441 - 410ms/epoch - 9ms/step\n",
      "Epoch 26/30\n",
      "45/45 - 0s - loss: 0.0822 - accuracy: 0.9762 - val_loss: 0.1570 - val_accuracy: 0.9497 - 415ms/epoch - 9ms/step\n",
      "Epoch 27/30\n",
      "45/45 - 0s - loss: 0.0729 - accuracy: 0.9818 - val_loss: 0.1578 - val_accuracy: 0.9413 - 404ms/epoch - 9ms/step\n",
      "Epoch 28/30\n",
      "45/45 - 0s - loss: 0.0707 - accuracy: 0.9832 - val_loss: 0.1715 - val_accuracy: 0.9413 - 423ms/epoch - 9ms/step\n",
      "Epoch 29/30\n",
      "45/45 - 0s - loss: 0.0690 - accuracy: 0.9853 - val_loss: 0.1546 - val_accuracy: 0.9413 - 415ms/epoch - 9ms/step\n",
      "Epoch 30/30\n",
      "45/45 - 0s - loss: 0.0653 - accuracy: 0.9832 - val_loss: 0.1530 - val_accuracy: 0.9525 - 440ms/epoch - 10ms/step\n"
     ]
    }
   ],
   "source": [
    "history = model.fit(training_padded, train_label, epochs=30,\n",
    "                    validation_data=(testing_padded, test_label), verbose=2)"
   ]
  },
  {
   "cell_type": "markdown",
   "id": "eda637cf",
   "metadata": {},
   "source": [
    "# 5. Accuracy and loss curve:"
   ]
  },
  {
   "cell_type": "markdown",
   "id": "5e42a551",
   "metadata": {},
   "source": [
    "**1. Accuracy Curve:**"
   ]
  },
  {
   "cell_type": "code",
   "execution_count": 56,
   "id": "424b67c0",
   "metadata": {},
   "outputs": [],
   "source": [
    "def accuracy_plot(model):\n",
    "    accuracy = model.history['accuracy']\n",
    "    val_accuracy = model.history['val_accuracy']\n",
    "    epochs = range(len(history.history['accuracy']))\n",
    "    \n",
    "    plt.plot(epochs, accuracy, label='training_accuracy')\n",
    "    plt.plot(epochs, val_accuracy, label='val_accuracy')\n",
    "    plt.title('accuracy')\n",
    "    plt.xlabel('epochs')\n",
    "    plt.legend()"
   ]
  },
  {
   "cell_type": "code",
   "execution_count": 57,
   "id": "e2bc6c4a",
   "metadata": {},
   "outputs": [
    {
     "data": {
      "image/png": "[encoded data removed]",
      "text/plain": [
       "<Figure size 640x480 with 1 Axes>"
      ]
     },
     "metadata": {},
     "output_type": "display_data"
    }
   ],
   "source": [
    "accuracy_plot(history)"
   ]
  },
  {
   "cell_type": "markdown",
   "id": "614b5f57",
   "metadata": {},
   "source": [
    "**2. Loss Curve:**"
   ]
  },
  {
   "cell_type": "code",
   "execution_count": 58,
   "id": "ed8549c1",
   "metadata": {},
   "outputs": [],
   "source": [
    "def loss_plot(model):\n",
    "    loss = model.history['loss']\n",
    "    val_loss = model.history['val_loss']\n",
    "    epochs = range(len(history.history['loss']))\n",
    "    \n",
    "    plt.plot(epochs, loss, label='training_loss')\n",
    "    plt.plot(epochs, val_loss, label='val_loss')\n",
    "    plt.title('loss')\n",
    "    plt.xlabel('epochs')\n",
    "    plt.legend()"
   ]
  },
  {
   "cell_type": "code",
   "execution_count": 59,
   "id": "30a5a2cd",
   "metadata": {},
   "outputs": [
    {
     "data": {
      "image/png": "[encoded data removed]",
      "text/plain": [
       "<Figure size 640x480 with 1 Axes>"
      ]
     },
     "metadata": {},
     "output_type": "display_data"
    }
   ],
   "source": [
    "loss_plot(history)"
   ]
  },
  {
   "cell_type": "markdown",
   "id": "b869a7c6",
   "metadata": {},
   "source": [
    "# 6. Testing the model on custom data:"
   ]
  },
  {
   "cell_type": "code",
   "execution_count": 60,
   "id": "32a16c7e",
   "metadata": {},
   "outputs": [],
   "source": [
    "import time\n",
    "import sys\n",
    "def load(count=50, filler=\"=\", delay=0.02):\n",
    "  for i in range(count + 1):\n",
    "    sys.stdout.write('\\r')\n",
    "    sys.stdout.write(\"[%s%s]\" % (filler * i, ' ' * (count - i)))\n",
    "    sys.stdout.flush()\n",
    "    time.sleep(delay)"
   ]
  },
  {
   "cell_type": "code",
   "execution_count": 61,
   "id": "f3af4b2c",
   "metadata": {},
   "outputs": [],
   "source": [
    "def userdef_tweet():\n",
    "    custom_tweet = input(\"Enter a tweet: \")\n",
    "    print()\n",
    "    print(\"Your tweet is: \", custom_tweet)\n",
    "    sentence = []\n",
    "    sentence.append(custom_tweet)\n",
    "    test_s = tokenizer.texts_to_sequences(sentence)\n",
    "    test_p = pad_sequences(test_s, maxlen=max_length,\n",
    "                      padding=pad_type, truncating=trunc_type)\n",
    "    pred_value = model.predict(test_p)\n",
    "    print(\"Predict Value is: \", pred_value)\n",
    "    load(filler=\">\")\n",
    "    print()\n",
    "    if(pred_value>0.5):\n",
    "        print(\"Potential Suicide Tweet\")\n",
    "    else:\n",
    "        print(\"Not a suicide Tweet\")"
   ]
  },
  {
   "cell_type": "code",
   "execution_count": 62,
   "id": "1ff93c44",
   "metadata": {},
   "outputs": [
    {
     "name": "stdout",
     "output_type": "stream",
     "text": [
      "Enter a tweet: At college, I learned super important knowledge, like uhh\n",
      "\n",
      "Your tweet is:  At college, I learned super important knowledge, like uhh\n",
      "1/1 [==============================] - 0s 111ms/step\n",
      "Predict Value is:  [[0.06773389]]\n",
      "[>>>>>>>>>>>>>>>>>>>>>>>>>>>>>>>>>>>>>>>>>>>>>>>>>>]\n",
      "Not a suicide Tweet\n"
     ]
    }
   ],
   "source": [
    "userdef_tweet()"
   ]
  },
  {
   "cell_type": "code",
   "execution_count": 63,
   "id": "74386e42",
   "metadata": {},
   "outputs": [
    {
     "name": "stdout",
     "output_type": "stream",
     "text": [
      "Enter a tweet: I want to kill myself\n",
      "\n",
      "Your tweet is:  I want to kill myself\n",
      "1/1 [==============================] - 0s 25ms/step\n",
      "Predict Value is:  [[0.87576586]]\n",
      "[>>>>>>>>>>>>>>>>>>>>>>>>>>>>>>>>>>>>>>>>>>>>>>>>>>]\n",
      "Potential Suicide Tweet\n"
     ]
    }
   ],
   "source": [
    "userdef_tweet()"
   ]
  },
  {
   "cell_type": "code",
   "execution_count": 64,
   "id": "00019aef",
   "metadata": {},
   "outputs": [
    {
     "name": "stdout",
     "output_type": "stream",
     "text": [
      "Enter a tweet: your order for a love life is running late by a few years\n",
      "\n",
      "Your tweet is:  your order for a love life is running late by a few years\n",
      "1/1 [==============================] - 0s 29ms/step\n",
      "Predict Value is:  [[0.00271586]]\n",
      "[>>>>>>>>>>>>>>>>>>>>>>>>>>>>>>>>>>>>>>>>>>>>>>>>>>]\n",
      "Not a suicide Tweet\n"
     ]
    }
   ],
   "source": [
    "userdef_tweet()"
   ]
  },
  {
   "cell_type": "code",
   "execution_count": 65,
   "id": "d98b3541",
   "metadata": {},
   "outputs": [
    {
     "name": "stdout",
     "output_type": "stream",
     "text": [
      "Enter a tweet: Enter a tweet: i just wanna die, everything sucks!\n",
      "\n",
      "Your tweet is:  Enter a tweet: i just wanna die, everything sucks!\n",
      "1/1 [==============================] - 0s 27ms/step\n",
      "Predict Value is:  [[0.79135484]]\n",
      "[>>>>>>>>>>>>>>>>>>>>>>>>>>>>>>>>>>>>>>>>>>>>>>>>>>]\n",
      "Potential Suicide Tweet\n"
     ]
    }
   ],
   "source": [
    "userdef_tweet()"
   ]
  },
  {
   "cell_type": "code",
   "execution_count": 66,
   "id": "19f231bd",
   "metadata": {},
   "outputs": [
    {
     "name": "stdout",
     "output_type": "stream",
     "text": [
      "Enter a tweet: A winner is a dreamer who never gives up\n",
      "\n",
      "Your tweet is:  A winner is a dreamer who never gives up\n",
      "1/1 [==============================] - 0s 28ms/step\n",
      "Predict Value is:  [[0.03362401]]\n",
      "[>>>>>>>>>>>>>>>>>>>>>>>>>>>>>>>>>>>>>>>>>>>>>>>>>>]\n",
      "Not a suicide Tweet\n"
     ]
    }
   ],
   "source": [
    "userdef_tweet()"
   ]
  }
 ],
 "metadata": {
  "kernelspec": {
   "display_name": "Python 3 (ipykernel)",
   "language": "python",
   "name": "python3"
  },
  "language_info": {
   "codemirror_mode": {
    "name": "ipython",
    "version": 3
   },
   "file_extension": ".py",
   "mimetype": "text/x-python",
   "name": "python",
   "nbconvert_exporter": "python",
   "pygments_lexer": "ipython3",
   "version": "3.10.12"
  }
 },
 "nbformat": 4,
 "nbformat_minor": 5
}
